{
 "cells": [
  {
   "cell_type": "code",
   "execution_count": 2,
   "metadata": {},
   "outputs": [],
   "source": [
    "import pandas as pd\n",
    "from sklearn.linear_model import LogisticRegression\n",
    "import numpy as np\n",
    "import seaborn as sns\n",
    "sns.set(style=\"white\")\n",
    "sns.set(style=\"whitegrid\", color_codes=True)\n",
    "from sklearn.model_selection import train_test_split"
   ]
  },
  {
   "cell_type": "code",
   "execution_count": 3,
   "metadata": {},
   "outputs": [],
   "source": [
    "#basic preprocessing\n",
    "\n",
    "def preproc(df_iden,df_transaction):\n",
    "    df_train = df_transaction.merge(df_iden, on='TransactionID', how='left')\n",
    "\n",
    "    y_train = df_train['isFraud']\n",
    "    X_train = df_train.drop('isFraud', axis=1)\n",
    "\n",
    "    non_floats = []\n",
    "    for col in X_train:\n",
    "        if X_train[col].dtypes != \"float64\":\n",
    "            non_floats.append(col)\n",
    "    X_train = X_train.drop(columns=non_floats)\n",
    "\n",
    "    X_train.fillna(value=0, inplace=True)\n",
    "    return X_train,y_train\n"
   ]
  },
  {
   "cell_type": "code",
   "execution_count": 4,
   "metadata": {},
   "outputs": [
    {
     "name": "stderr",
     "output_type": "stream",
     "text": [
      "/home/remko/anaconda2/envs/amadeus/lib/python3.5/site-packages/sklearn/linear_model/logistic.py:432: FutureWarning: Default solver will be changed to 'lbfgs' in 0.22. Specify a solver to silence this warning.\n",
      "  FutureWarning)\n"
     ]
    },
    {
     "name": "stdout",
     "output_type": "stream",
     "text": [
      "final score 0.9733333333333334\n"
     ]
    },
    {
     "name": "stderr",
     "output_type": "stream",
     "text": [
      "/home/remko/anaconda2/envs/amadeus/lib/python3.5/site-packages/sklearn/svm/base.py:929: ConvergenceWarning: Liblinear failed to converge, increase the number of iterations.\n",
      "  \"the number of iterations.\", ConvergenceWarning)\n"
     ]
    },
    {
     "data": {
      "image/png": "[encoded data removed]",
      "text/plain": [
       "<Figure size 432x288 with 1 Axes>"
      ]
     },
     "metadata": {
      "needs_background": "light"
     },
     "output_type": "display_data"
    }
   ],
   "source": [
    "# Read the CSV file\n",
    "df_iden = pd.read_csv('data/train_identity.csv', nrows=10000)\n",
    "df_transaction = pd.read_csv('data/train_transaction.csv', nrows=10000)\n",
    "\n",
    "#here the seaborn, to get an idea of how the distribution fraud/none fraud is.\n",
    "sns.countplot(df_transaction['isFraud'])\n",
    "X_train,y_train=preproc(df_iden,df_transaction)\n",
    "\n",
    "\n",
    "X_train, X_test, y_train, y_test = train_test_split(X_train, y_train, test_size=0.33, random_state=42)\n",
    "\n",
    "\n",
    "\n",
    "logisticRegr = LogisticRegression(max_iter=100)\n",
    "logisticRegr.fit(X_train, y_train)\n",
    "\n",
    "\n",
    "\n",
    "\n",
    "#score on test data\n",
    "score = logisticRegr.score(X_test, y_test)\n",
    "print(\"final score\",score)\n"
   ]
  },
  {
   "cell_type": "code",
   "execution_count": null,
   "metadata": {},
   "outputs": [],
   "source": []
  }
 ],
 "metadata": {
  "kernelspec": {
   "display_name": "Python 3",
   "language": "python",
   "name": "python3"
  },
  "language_info": {
   "codemirror_mode": {
    "name": "ipython",
    "version": 3
   },
   "file_extension": ".py",
   "mimetype": "text/x-python",
   "name": "python",
   "nbconvert_exporter": "python",
   "pygments_lexer": "ipython3",
   "version": "3.5.5"
  }
 },
 "nbformat": 4,
 "nbformat_minor": 2
}
